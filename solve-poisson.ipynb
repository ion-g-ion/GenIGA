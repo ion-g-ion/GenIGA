{
 "cells": [
  {
   "cell_type": "code",
   "execution_count": 1,
   "metadata": {},
   "outputs": [
    {
     "name": "stdout",
     "output_type": "stream",
     "text": [
      "%pylab is deprecated, use %matplotlib inline and import the required libraries.\n",
      "Populating the interactive namespace from numpy and matplotlib\n"
     ]
    },
    {
     "ename": "ImportError",
     "evalue": "/home/yonnss/anaconda3/envs/pytorch/lib/python3.10/site-packages/zmq/backend/cython/../../../../.././libstdc++.so.6: version `GLIBCXX_3.4.32' not found (required by /home/yonnss/anaconda3/envs/pytorch/lib/python3.10/site-packages/pyiga/fast_assemble_cy.cpython-310-x86_64-linux-gnu.so)",
     "output_type": "error",
     "traceback": [
      "\u001b[0;31m---------------------------------------------------------------------------\u001b[0m",
      "\u001b[0;31mImportError\u001b[0m                               Traceback (most recent call last)",
      "Cell \u001b[0;32mIn[1], line 4\u001b[0m\n\u001b[1;32m      2\u001b[0m \u001b[38;5;28;01mimport\u001b[39;00m \u001b[38;5;21;01mscipy\u001b[39;00m\n\u001b[1;32m      3\u001b[0m \u001b[38;5;28;01mimport\u001b[39;00m \u001b[38;5;21;01mnumpy\u001b[39;00m \u001b[38;5;28;01mas\u001b[39;00m \u001b[38;5;21;01mnp\u001b[39;00m\n\u001b[0;32m----> 4\u001b[0m \u001b[38;5;28;01mfrom\u001b[39;00m \u001b[38;5;21;01mpyiga\u001b[39;00m \u001b[38;5;28;01mimport\u001b[39;00m bspline, assemble, geometry, vis\n",
      "File \u001b[0;32m~/anaconda3/envs/pytorch/lib/python3.10/site-packages/pyiga/assemble.py:112\u001b[0m\n\u001b[1;32m    110\u001b[0m \u001b[38;5;28;01mfrom\u001b[39;00m \u001b[38;5;21;01m.\u001b[39;00m \u001b[38;5;28;01mimport\u001b[39;00m assemble_tools\n\u001b[1;32m    111\u001b[0m \u001b[38;5;28;01mfrom\u001b[39;00m \u001b[38;5;21;01m.\u001b[39;00m \u001b[38;5;28;01mimport\u001b[39;00m assemblers\n\u001b[0;32m--> 112\u001b[0m \u001b[38;5;28;01mfrom\u001b[39;00m \u001b[38;5;21;01m.\u001b[39;00m \u001b[38;5;28;01mimport\u001b[39;00m fast_assemble_cy\n\u001b[1;32m    113\u001b[0m \u001b[38;5;28;01mfrom\u001b[39;00m \u001b[38;5;21;01m.\u001b[39;00m \u001b[38;5;28;01mimport\u001b[39;00m tensor\n\u001b[1;32m    114\u001b[0m \u001b[38;5;28;01mfrom\u001b[39;00m \u001b[38;5;21;01m.\u001b[39;00m \u001b[38;5;28;01mimport\u001b[39;00m operators\n",
      "\u001b[0;31mImportError\u001b[0m: /home/yonnss/anaconda3/envs/pytorch/lib/python3.10/site-packages/zmq/backend/cython/../../../../.././libstdc++.so.6: version `GLIBCXX_3.4.32' not found (required by /home/yonnss/anaconda3/envs/pytorch/lib/python3.10/site-packages/pyiga/fast_assemble_cy.cpython-310-x86_64-linux-gnu.so)"
     ]
    }
   ],
   "source": [
    "%pylab inline\n",
    "import scipy\n",
    "import numpy as np\n",
    "from pyiga import bspline, assemble, geometry, vis"
   ]
  },
  {
   "cell_type": "code",
   "execution_count": null,
   "metadata": {},
   "outputs": [],
   "source": [
    "# define geometry\n",
    "geo = geometry.quarter_annulus()\n",
    "\n",
    "# define discretization space\n",
    "p = 3     # spline degree\n",
    "kvs = 2 * (bspline.make_knots(p, 0.0, 1.0, 50),)\n",
    "\n",
    "geo = geometry.tensor_product(geometry.BSplineFunc(kvs[0], np.linspace(0, 1,kvs[0].numdofs)), geometry.BSplineFunc(kvs[1], np.linspace(0,1,kvs[1].numdofs)))"
   ]
  },
  {
   "cell_type": "code",
   "execution_count": null,
   "metadata": {},
   "outputs": [],
   "source": [
    "g = lambda x,y: np.exp(-(x-.8)**2 - (y-.8)**2)  # Dirichlet BC function\n",
    "f = lambda x,y: 0*x # source term\n",
    "\n",
    "# compute Dirichlet boundary conditions\n",
    "bcs = assemble.compute_dirichlet_bcs(kvs, geo, [('left', g), ('top', g), ('right', g), ('bottom', g)])\n",
    "\n",
    "# compute right-hand side from function f\n",
    "rhs = assemble.inner_products(kvs, f, f_physical=True, geo=geo).ravel()"
   ]
  },
  {
   "cell_type": "code",
   "execution_count": null,
   "metadata": {},
   "outputs": [],
   "source": [
    "# set up and solve linear system\n",
    "A = assemble.stiffness(kvs, geo)\n",
    "LS = assemble.RestrictedLinearSystem(A, rhs, bcs)\n",
    "\n",
    "u = scipy.sparse.linalg.spsolve(LS.A, LS.b)\n",
    "u_func = geometry.BSplineFunc(kvs, LS.complete(u))"
   ]
  },
  {
   "cell_type": "code",
   "execution_count": null,
   "metadata": {},
   "outputs": [],
   "source": [
    "# plot coefficients and solution\n",
    "figsize(12,6)\n",
    "\n",
    "subplot(1,2,1)\n",
    "pcolormesh(u_func.coeffs)\n",
    "gca().set_aspect('equal')\n",
    "\n",
    "subplot(1,2,2)\n",
    "vis.plot_field(u_func, geo)\n",
    "gca().set_aspect('equal')\n",
    "colorbar();\n",
    "import matplotlib.pyplot as plt\n",
    "plt.savefig('quarter_annulus.png', dpi=300)"
   ]
  },
  {
   "cell_type": "code",
   "execution_count": null,
   "metadata": {},
   "outputs": [],
   "source": [
    "print(\"Norm system: \", scipy.linalg.norm(LS.A @ u - LS.b))\n",
    "n = int(np.sqrt(u_func.coeffs.size))\n",
    "bd_mask = np.ones([n, n])\n",
    "bd_mask[1:-1, 1:-1] = 0\n",
    "bd_mask = bd_mask.flatten()\n",
    "int_mask = 1 - bd_mask\n",
    "int_mask = int_mask.flatten()\n",
    "Pin = scipy.sparse.diags(int_mask, 0, shape=(n*n, n*n), format='csc')\n",
    "Pbd = scipy.sparse.diags(bd_mask, 0, shape=(n*n, n*n), format='csc')\n",
    "uc = u_func.coeffs.flatten()\n",
    "res = Pin@(A@(Pin@uc)) - Pin@(-A@(Pbd@uc))\n",
    "print(\"Norm residual: \", scipy.linalg.norm(res, ord=np.inf))\n",
    "\n",
    "print(u_func.coeffs.shape, LS.complete(u).shape, A.shape, rhs.shape)"
   ]
  }
 ],
 "metadata": {
  "kernelspec": {
   "display_name": "pytorch",
   "language": "python",
   "name": "python3"
  },
  "language_info": {
   "codemirror_mode": {
    "name": "ipython",
    "version": 3
   },
   "file_extension": ".py",
   "mimetype": "text/x-python",
   "name": "python",
   "nbconvert_exporter": "python",
   "pygments_lexer": "ipython3",
   "version": "3.10.15"
  }
 },
 "nbformat": 4,
 "nbformat_minor": 4
}
